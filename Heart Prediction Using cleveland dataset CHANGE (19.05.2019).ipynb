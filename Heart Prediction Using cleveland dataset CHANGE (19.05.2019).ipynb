{
 "cells": [
  {
   "cell_type": "markdown",
   "metadata": {},
   "source": [
    "# Heart attack Prediction using machine learning Models"
   ]
  },
  {
   "cell_type": "code",
   "execution_count": 5,
   "metadata": {},
   "outputs": [],
   "source": [
    "import pandas as pd    #============= Pandas is used for manipulation and data processing ================================ \n",
    "import numpy as np     #============= numpy for scientific computing and linear algerbic ================================\n",
    "import urllib         \n",
    "import sklearn          #============= Using sklearn we can use the interference of different algorithm================\n",
    "import matplotlib.pyplot as plt   #=========== Matplotlib is used to plot structure from its library===========================\n",
    "import seaborn as sns             #============ seaborn is used for visualization using matplot===============================\n",
    "sns.set()\n",
    "from sklearn.model_selection import cross_val_score\n",
    "import pylab as pl    #================== pylab is used to make things easy for ploting ===========================\n",
    "import os \n",
    "from sklearn.preprocessing import MinMaxScaler\n",
    "import datetime\n",
    "import warnings        #=================It is used when a language is changed in future ===================\n",
    "warnings.filterwarnings(\"ignore\")  #=================It is used when the language is change and its ignored ==================="
   ]
  },
  {
   "cell_type": "code",
   "execution_count": 6,
   "metadata": {},
   "outputs": [],
   "source": [
    " \n",
    "from numpy import genfromtxt #=================general text format =============================\n",
    "from itertools import cycle  #====================for any loop ===================================================\n",
    "from sklearn.metrics import accuracy_score #====================to calculate the accuracy of the models================="
   ]
  },
  {
   "cell_type": "markdown",
   "metadata": {},
   "source": [
    "# Dataset Discription"
   ]
  },
  {
   "cell_type": "markdown",
   "metadata": {},
   "source": [
    "## cleveland dataset Heart Disease Dataset Source:"
   ]
  },
  {
   "cell_type": "markdown",
   "metadata": {},
   "source": [
    "# http://archive.ics.uci.edu/ml/datasets/heart+disease"
   ]
  },
  {
   "cell_type": "code",
   "execution_count": 7,
   "metadata": {},
   "outputs": [
    {
     "name": "stdout",
     "output_type": "stream",
     "text": [
      "(303, 17)\n"
     ]
    }
   ],
   "source": [
    "data = pd.read_csv('cleveland100.csv') #================the csv dataset is been loaded and read============================ \n",
    "print(data.shape)                     #=============print how much of attributes ========================================"
   ]
  },
  {
   "cell_type": "code",
   "execution_count": 8,
   "metadata": {},
   "outputs": [
    {
     "name": "stdout",
     "output_type": "stream",
     "text": [
      "Unnamed: 0    0\n",
      "X.1           0\n",
      "X             0\n",
      "age           0\n",
      "sex           0\n",
      "cp            0\n",
      "trestbps      0\n",
      "chol          0\n",
      "fbs           0\n",
      "restecg       0\n",
      "thalach       0\n",
      "exang         0\n",
      "oldpeak       0\n",
      "slope         0\n",
      "ca            0\n",
      "thal          0\n",
      "num           0\n",
      "dtype: int64\n"
     ]
    }
   ],
   "source": [
    "# Exploratory Data Analysis\n",
    "check_missing_values = data.isnull().sum() #============ Get the number of missing data points per column==============\n",
    "print(check_missing_values)                  #============ and will show up in variable explorer============================="
   ]
  },
  {
   "cell_type": "code",
   "execution_count": 9,
   "metadata": {},
   "outputs": [],
   "source": [
    "data.drop('X.1',axis=1,inplace= True)\n",
    "data.drop('X',axis=1,inplace= True)"
   ]
  },
  {
   "cell_type": "code",
   "execution_count": 10,
   "metadata": {},
   "outputs": [
    {
     "name": "stdout",
     "output_type": "stream",
     "text": [
      "       Unnamed: 0         age         sex          cp    trestbps        chol  \\\n",
      "count  303.000000  303.000000  303.000000  303.000000  303.000000  303.000000   \n",
      "mean   152.000000   54.438944    0.679868    3.158416  131.689769  246.693069   \n",
      "std     87.612784    9.038662    0.467299    0.960126   17.599748   51.776918   \n",
      "min      1.000000   29.000000    0.000000    1.000000   94.000000  126.000000   \n",
      "25%     76.500000   48.000000    0.000000    3.000000  120.000000  211.000000   \n",
      "50%    152.000000   56.000000    1.000000    3.000000  130.000000  241.000000   \n",
      "75%    227.500000   61.000000    1.000000    4.000000  140.000000  275.000000   \n",
      "max    303.000000   77.000000    1.000000    4.000000  200.000000  564.000000   \n",
      "\n",
      "              fbs     restecg     thalach       exang     oldpeak       slope  \\\n",
      "count  303.000000  303.000000  303.000000  303.000000  303.000000  303.000000   \n",
      "mean     0.148515    0.990099  149.607261    0.326733    1.039604    1.600660   \n",
      "std      0.356198    0.994971   22.875003    0.469794    1.161075    0.616226   \n",
      "min      0.000000    0.000000   71.000000    0.000000    0.000000    1.000000   \n",
      "25%      0.000000    0.000000  133.500000    0.000000    0.000000    1.000000   \n",
      "50%      0.000000    1.000000  153.000000    0.000000    0.800000    2.000000   \n",
      "75%      0.000000    2.000000  166.000000    1.000000    1.600000    2.000000   \n",
      "max      1.000000    2.000000  202.000000    1.000000    6.200000    3.000000   \n",
      "\n",
      "               ca        thal         num  \n",
      "count  303.000000  303.000000  303.000000  \n",
      "mean     0.670871    4.740326    0.458746  \n",
      "std      0.933413    1.935849    0.499120  \n",
      "min     -0.323835    3.000000    0.000000  \n",
      "25%      0.000000    3.000000    0.000000  \n",
      "50%      0.000000    3.000000    0.000000  \n",
      "75%      1.000000    7.000000    1.000000  \n",
      "max      3.000000    7.000000    1.000000  \n"
     ]
    },
    {
     "data": {
      "text/html": [
       "<div>\n",
       "<style scoped>\n",
       "    .dataframe tbody tr th:only-of-type {\n",
       "        vertical-align: middle;\n",
       "    }\n",
       "\n",
       "    .dataframe tbody tr th {\n",
       "        vertical-align: top;\n",
       "    }\n",
       "\n",
       "    .dataframe thead th {\n",
       "        text-align: right;\n",
       "    }\n",
       "</style>\n",
       "<table border=\"1\" class=\"dataframe\">\n",
       "  <thead>\n",
       "    <tr style=\"text-align: right;\">\n",
       "      <th></th>\n",
       "      <th>Unnamed: 0</th>\n",
       "      <th>age</th>\n",
       "      <th>sex</th>\n",
       "      <th>cp</th>\n",
       "      <th>trestbps</th>\n",
       "      <th>chol</th>\n",
       "      <th>fbs</th>\n",
       "      <th>restecg</th>\n",
       "      <th>thalach</th>\n",
       "      <th>exang</th>\n",
       "      <th>oldpeak</th>\n",
       "      <th>slope</th>\n",
       "      <th>ca</th>\n",
       "      <th>thal</th>\n",
       "      <th>num</th>\n",
       "    </tr>\n",
       "  </thead>\n",
       "  <tbody>\n",
       "    <tr>\n",
       "      <th>count</th>\n",
       "      <td>303.000000</td>\n",
       "      <td>303.000000</td>\n",
       "      <td>303.000000</td>\n",
       "      <td>303.000000</td>\n",
       "      <td>303.000000</td>\n",
       "      <td>303.000000</td>\n",
       "      <td>303.000000</td>\n",
       "      <td>303.000000</td>\n",
       "      <td>303.000000</td>\n",
       "      <td>303.000000</td>\n",
       "      <td>303.000000</td>\n",
       "      <td>303.000000</td>\n",
       "      <td>303.000000</td>\n",
       "      <td>303.000000</td>\n",
       "      <td>303.000000</td>\n",
       "    </tr>\n",
       "    <tr>\n",
       "      <th>mean</th>\n",
       "      <td>152.000000</td>\n",
       "      <td>54.438944</td>\n",
       "      <td>0.679868</td>\n",
       "      <td>3.158416</td>\n",
       "      <td>131.689769</td>\n",
       "      <td>246.693069</td>\n",
       "      <td>0.148515</td>\n",
       "      <td>0.990099</td>\n",
       "      <td>149.607261</td>\n",
       "      <td>0.326733</td>\n",
       "      <td>1.039604</td>\n",
       "      <td>1.600660</td>\n",
       "      <td>0.670871</td>\n",
       "      <td>4.740326</td>\n",
       "      <td>0.458746</td>\n",
       "    </tr>\n",
       "    <tr>\n",
       "      <th>std</th>\n",
       "      <td>87.612784</td>\n",
       "      <td>9.038662</td>\n",
       "      <td>0.467299</td>\n",
       "      <td>0.960126</td>\n",
       "      <td>17.599748</td>\n",
       "      <td>51.776918</td>\n",
       "      <td>0.356198</td>\n",
       "      <td>0.994971</td>\n",
       "      <td>22.875003</td>\n",
       "      <td>0.469794</td>\n",
       "      <td>1.161075</td>\n",
       "      <td>0.616226</td>\n",
       "      <td>0.933413</td>\n",
       "      <td>1.935849</td>\n",
       "      <td>0.499120</td>\n",
       "    </tr>\n",
       "    <tr>\n",
       "      <th>min</th>\n",
       "      <td>1.000000</td>\n",
       "      <td>29.000000</td>\n",
       "      <td>0.000000</td>\n",
       "      <td>1.000000</td>\n",
       "      <td>94.000000</td>\n",
       "      <td>126.000000</td>\n",
       "      <td>0.000000</td>\n",
       "      <td>0.000000</td>\n",
       "      <td>71.000000</td>\n",
       "      <td>0.000000</td>\n",
       "      <td>0.000000</td>\n",
       "      <td>1.000000</td>\n",
       "      <td>-0.323835</td>\n",
       "      <td>3.000000</td>\n",
       "      <td>0.000000</td>\n",
       "    </tr>\n",
       "    <tr>\n",
       "      <th>25%</th>\n",
       "      <td>76.500000</td>\n",
       "      <td>48.000000</td>\n",
       "      <td>0.000000</td>\n",
       "      <td>3.000000</td>\n",
       "      <td>120.000000</td>\n",
       "      <td>211.000000</td>\n",
       "      <td>0.000000</td>\n",
       "      <td>0.000000</td>\n",
       "      <td>133.500000</td>\n",
       "      <td>0.000000</td>\n",
       "      <td>0.000000</td>\n",
       "      <td>1.000000</td>\n",
       "      <td>0.000000</td>\n",
       "      <td>3.000000</td>\n",
       "      <td>0.000000</td>\n",
       "    </tr>\n",
       "    <tr>\n",
       "      <th>50%</th>\n",
       "      <td>152.000000</td>\n",
       "      <td>56.000000</td>\n",
       "      <td>1.000000</td>\n",
       "      <td>3.000000</td>\n",
       "      <td>130.000000</td>\n",
       "      <td>241.000000</td>\n",
       "      <td>0.000000</td>\n",
       "      <td>1.000000</td>\n",
       "      <td>153.000000</td>\n",
       "      <td>0.000000</td>\n",
       "      <td>0.800000</td>\n",
       "      <td>2.000000</td>\n",
       "      <td>0.000000</td>\n",
       "      <td>3.000000</td>\n",
       "      <td>0.000000</td>\n",
       "    </tr>\n",
       "    <tr>\n",
       "      <th>75%</th>\n",
       "      <td>227.500000</td>\n",
       "      <td>61.000000</td>\n",
       "      <td>1.000000</td>\n",
       "      <td>4.000000</td>\n",
       "      <td>140.000000</td>\n",
       "      <td>275.000000</td>\n",
       "      <td>0.000000</td>\n",
       "      <td>2.000000</td>\n",
       "      <td>166.000000</td>\n",
       "      <td>1.000000</td>\n",
       "      <td>1.600000</td>\n",
       "      <td>2.000000</td>\n",
       "      <td>1.000000</td>\n",
       "      <td>7.000000</td>\n",
       "      <td>1.000000</td>\n",
       "    </tr>\n",
       "    <tr>\n",
       "      <th>max</th>\n",
       "      <td>303.000000</td>\n",
       "      <td>77.000000</td>\n",
       "      <td>1.000000</td>\n",
       "      <td>4.000000</td>\n",
       "      <td>200.000000</td>\n",
       "      <td>564.000000</td>\n",
       "      <td>1.000000</td>\n",
       "      <td>2.000000</td>\n",
       "      <td>202.000000</td>\n",
       "      <td>1.000000</td>\n",
       "      <td>6.200000</td>\n",
       "      <td>3.000000</td>\n",
       "      <td>3.000000</td>\n",
       "      <td>7.000000</td>\n",
       "      <td>1.000000</td>\n",
       "    </tr>\n",
       "  </tbody>\n",
       "</table>\n",
       "</div>"
      ],
      "text/plain": [
       "       Unnamed: 0         age         sex          cp    trestbps        chol  \\\n",
       "count  303.000000  303.000000  303.000000  303.000000  303.000000  303.000000   \n",
       "mean   152.000000   54.438944    0.679868    3.158416  131.689769  246.693069   \n",
       "std     87.612784    9.038662    0.467299    0.960126   17.599748   51.776918   \n",
       "min      1.000000   29.000000    0.000000    1.000000   94.000000  126.000000   \n",
       "25%     76.500000   48.000000    0.000000    3.000000  120.000000  211.000000   \n",
       "50%    152.000000   56.000000    1.000000    3.000000  130.000000  241.000000   \n",
       "75%    227.500000   61.000000    1.000000    4.000000  140.000000  275.000000   \n",
       "max    303.000000   77.000000    1.000000    4.000000  200.000000  564.000000   \n",
       "\n",
       "              fbs     restecg     thalach       exang     oldpeak       slope  \\\n",
       "count  303.000000  303.000000  303.000000  303.000000  303.000000  303.000000   \n",
       "mean     0.148515    0.990099  149.607261    0.326733    1.039604    1.600660   \n",
       "std      0.356198    0.994971   22.875003    0.469794    1.161075    0.616226   \n",
       "min      0.000000    0.000000   71.000000    0.000000    0.000000    1.000000   \n",
       "25%      0.000000    0.000000  133.500000    0.000000    0.000000    1.000000   \n",
       "50%      0.000000    1.000000  153.000000    0.000000    0.800000    2.000000   \n",
       "75%      0.000000    2.000000  166.000000    1.000000    1.600000    2.000000   \n",
       "max      1.000000    2.000000  202.000000    1.000000    6.200000    3.000000   \n",
       "\n",
       "               ca        thal         num  \n",
       "count  303.000000  303.000000  303.000000  \n",
       "mean     0.670871    4.740326    0.458746  \n",
       "std      0.933413    1.935849    0.499120  \n",
       "min     -0.323835    3.000000    0.000000  \n",
       "25%      0.000000    3.000000    0.000000  \n",
       "50%      0.000000    3.000000    0.000000  \n",
       "75%      1.000000    7.000000    1.000000  \n",
       "max      3.000000    7.000000    1.000000  "
      ]
     },
     "execution_count": 10,
     "metadata": {},
     "output_type": "execute_result"
    }
   ],
   "source": [
    "print(data.describe())   #============ This will show and describle all the details attributes========================== \n",
    "data.describe()"
   ]
  },
  {
   "cell_type": "markdown",
   "metadata": {},
   "source": [
    "### Describes the statistical data"
   ]
  },
  {
   "cell_type": "code",
   "execution_count": 11,
   "metadata": {},
   "outputs": [
    {
     "name": "stdout",
     "output_type": "stream",
     "text": [
      "<class 'pandas.core.frame.DataFrame'>\n",
      "RangeIndex: 303 entries, 0 to 302\n",
      "Data columns (total 15 columns):\n",
      "Unnamed: 0    303 non-null int64\n",
      "age           303 non-null int64\n",
      "sex           303 non-null int64\n",
      "cp            303 non-null int64\n",
      "trestbps      303 non-null int64\n",
      "chol          303 non-null int64\n",
      "fbs           303 non-null int64\n",
      "restecg       303 non-null int64\n",
      "thalach       303 non-null int64\n",
      "exang         303 non-null int64\n",
      "oldpeak       303 non-null float64\n",
      "slope         303 non-null int64\n",
      "ca            303 non-null float64\n",
      "thal          303 non-null float64\n",
      "num           303 non-null int64\n",
      "dtypes: float64(3), int64(12)\n",
      "memory usage: 35.6 KB\n",
      "None\n",
      "<class 'pandas.core.frame.DataFrame'>\n",
      "RangeIndex: 303 entries, 0 to 302\n",
      "Data columns (total 15 columns):\n",
      "Unnamed: 0    303 non-null int64\n",
      "age           303 non-null int64\n",
      "sex           303 non-null int64\n",
      "cp            303 non-null int64\n",
      "trestbps      303 non-null int64\n",
      "chol          303 non-null int64\n",
      "fbs           303 non-null int64\n",
      "restecg       303 non-null int64\n",
      "thalach       303 non-null int64\n",
      "exang         303 non-null int64\n",
      "oldpeak       303 non-null float64\n",
      "slope         303 non-null int64\n",
      "ca            303 non-null float64\n",
      "thal          303 non-null float64\n",
      "num           303 non-null int64\n",
      "dtypes: float64(3), int64(12)\n",
      "memory usage: 35.6 KB\n"
     ]
    }
   ],
   "source": [
    "print(data.info())  #============ This will show the all entries details of attributes==================================== \n",
    "data.info()"
   ]
  },
  {
   "cell_type": "code",
   "execution_count": 12,
   "metadata": {},
   "outputs": [],
   "source": [
    "attributes =['age','sex','cp','trestbps','chol','fbs','restecg','thalach','exang','oldpeak','slope','ca','thal']\n",
    "class_to_predict=['num']"
   ]
  },
  {
   "cell_type": "code",
   "execution_count": 13,
   "metadata": {},
   "outputs": [
    {
     "data": {
      "text/plain": [
       "<matplotlib.axes._subplots.AxesSubplot at 0x1d4de2d6710>"
      ]
     },
     "execution_count": 13,
     "metadata": {},
     "output_type": "execute_result"
    },
    {
     "data": {
      "image/png": "[encoded data removed]",
      "text/plain": [
       "<Figure size 1440x720 with 1 Axes>"
      ]
     },
     "metadata": {},
     "output_type": "display_data"
    }
   ],
   "source": [
    "plt.figure(figsize=(20,10))\n",
    "sns.barplot(x=\"age\",y=\"num\",data=data)"
   ]
  },
  {
   "cell_type": "code",
   "execution_count": 14,
   "metadata": {},
   "outputs": [
    {
     "data": {
      "text/plain": [
       "<matplotlib.axes._subplots.AxesSubplot at 0x1d4e36001d0>"
      ]
     },
     "execution_count": 14,
     "metadata": {},
     "output_type": "execute_result"
    },
    {
     "data": {
      "image/png": "[encoded data removed]",
      "text/plain": [
       "<Figure size 1080x720 with 1 Axes>"
      ]
     },
     "metadata": {},
     "output_type": "display_data"
    }
   ],
   "source": [
    "plt.figure(figsize=(15,10))\n",
    "sns.barplot(x=\"cp\",y=\"num\", data=data)"
   ]
  },
  {
   "cell_type": "code",
   "execution_count": 15,
   "metadata": {},
   "outputs": [
    {
     "data": {
      "text/plain": [
       "<matplotlib.axes._subplots.AxesSubplot at 0x1d4e3a8a550>"
      ]
     },
     "execution_count": 15,
     "metadata": {},
     "output_type": "execute_result"
    },
    {
     "data": {
      "image/png": "[encoded data removed]",
      "text/plain": [
       "<Figure size 432x288 with 1 Axes>"
      ]
     },
     "metadata": {},
     "output_type": "display_data"
    }
   ],
   "source": [
    "sns.countplot(x=data['age'],hue= data['num'])"
   ]
  },
  {
   "cell_type": "markdown",
   "metadata": {},
   "source": [
    "## Choosing Actual Attributes NUM = DIAGNOSIS"
   ]
  },
  {
   "cell_type": "code",
   "execution_count": 16,
   "metadata": {},
   "outputs": [
    {
     "data": {
      "image/png": "[encoded data removed]",
      "text/plain": [
       "<Figure size 432x288 with 1 Axes>"
      ]
     },
     "metadata": {},
     "output_type": "display_data"
    }
   ],
   "source": [
    "sns.countplot(x=data['num'])\n",
    "plt.title('No.of patients affected by heart stroke',fontsize=15)\n",
    "plt.show()"
   ]
  },
  {
   "cell_type": "code",
   "execution_count": 17,
   "metadata": {},
   "outputs": [
    {
     "data": {
      "text/plain": [
       "False    164\n",
       "True     139\n",
       "Name: num, dtype: int64"
      ]
     },
     "execution_count": 17,
     "metadata": {},
     "output_type": "execute_result"
    }
   ],
   "source": [
    "data.num= (data.num !=0)\n",
    "data.num.value_counts()   #============ True= 1 and false=0 ============"
   ]
  },
  {
   "cell_type": "code",
   "execution_count": 18,
   "metadata": {},
   "outputs": [
    {
     "data": {
      "text/plain": [
       "(303, 13)"
      ]
     },
     "execution_count": 18,
     "metadata": {},
     "output_type": "execute_result"
    }
   ],
   "source": [
    "X = data[attributes].values #============ defining x attributes==================================== \n",
    "y = data[class_to_predict].values  #============ defining y attributes==================================== \n",
    "X.shape"
   ]
  },
  {
   "cell_type": "code",
   "execution_count": 19,
   "metadata": {},
   "outputs": [
    {
     "data": {
      "text/plain": [
       "(303, 1)"
      ]
     },
     "execution_count": 19,
     "metadata": {},
     "output_type": "execute_result"
    }
   ],
   "source": [
    "y.shape"
   ]
  },
  {
   "cell_type": "code",
   "execution_count": 20,
   "metadata": {},
   "outputs": [
    {
     "data": {
      "text/plain": [
       "array([[False],\n",
       "       [ True],\n",
       "       [ True],\n",
       "       [False],\n",
       "       [False],\n",
       "       [False],\n",
       "       [ True],\n",
       "       [False],\n",
       "       [ True],\n",
       "       [ True],\n",
       "       [False],\n",
       "       [False],\n",
       "       [ True],\n",
       "       [False],\n",
       "       [False],\n",
       "       [False],\n",
       "       [ True],\n",
       "       [False],\n",
       "       [False],\n",
       "       [False],\n",
       "       [False],\n",
       "       [False],\n",
       "       [ True],\n",
       "       [ True],\n",
       "       [ True],\n",
       "       [False],\n",
       "       [False],\n",
       "       [False],\n",
       "       [False],\n",
       "       [ True],\n",
       "       [False],\n",
       "       [ True],\n",
       "       [ True],\n",
       "       [False],\n",
       "       [False],\n",
       "       [False],\n",
       "       [ True],\n",
       "       [ True],\n",
       "       [ True],\n",
       "       [False],\n",
       "       [ True],\n",
       "       [False],\n",
       "       [False],\n",
       "       [False],\n",
       "       [ True],\n",
       "       [ True],\n",
       "       [False],\n",
       "       [ True],\n",
       "       [False],\n",
       "       [False],\n",
       "       [False],\n",
       "       [False],\n",
       "       [ True],\n",
       "       [False],\n",
       "       [ True],\n",
       "       [ True],\n",
       "       [ True],\n",
       "       [ True],\n",
       "       [False],\n",
       "       [False],\n",
       "       [ True],\n",
       "       [False],\n",
       "       [ True],\n",
       "       [False],\n",
       "       [ True],\n",
       "       [ True],\n",
       "       [ True],\n",
       "       [False],\n",
       "       [ True],\n",
       "       [ True],\n",
       "       [False],\n",
       "       [ True],\n",
       "       [ True],\n",
       "       [ True],\n",
       "       [ True],\n",
       "       [False],\n",
       "       [ True],\n",
       "       [False],\n",
       "       [False],\n",
       "       [ True],\n",
       "       [False],\n",
       "       [False],\n",
       "       [False],\n",
       "       [ True],\n",
       "       [False],\n",
       "       [False],\n",
       "       [False],\n",
       "       [False],\n",
       "       [False],\n",
       "       [False],\n",
       "       [False],\n",
       "       [ True],\n",
       "       [False],\n",
       "       [False],\n",
       "       [False],\n",
       "       [ True],\n",
       "       [ True],\n",
       "       [ True],\n",
       "       [False],\n",
       "       [False],\n",
       "       [False],\n",
       "       [False],\n",
       "       [False],\n",
       "       [False],\n",
       "       [ True],\n",
       "       [False],\n",
       "       [ True],\n",
       "       [ True],\n",
       "       [ True],\n",
       "       [ True],\n",
       "       [ True],\n",
       "       [ True],\n",
       "       [False],\n",
       "       [ True],\n",
       "       [ True],\n",
       "       [False],\n",
       "       [False],\n",
       "       [False],\n",
       "       [ True],\n",
       "       [ True],\n",
       "       [ True],\n",
       "       [ True],\n",
       "       [False],\n",
       "       [ True],\n",
       "       [ True],\n",
       "       [False],\n",
       "       [ True],\n",
       "       [ True],\n",
       "       [False],\n",
       "       [False],\n",
       "       [False],\n",
       "       [False],\n",
       "       [False],\n",
       "       [False],\n",
       "       [False],\n",
       "       [False],\n",
       "       [ True],\n",
       "       [ True],\n",
       "       [ True],\n",
       "       [False],\n",
       "       [False],\n",
       "       [ True],\n",
       "       [False],\n",
       "       [ True],\n",
       "       [False],\n",
       "       [ True],\n",
       "       [ True],\n",
       "       [False],\n",
       "       [False],\n",
       "       [False],\n",
       "       [False],\n",
       "       [False],\n",
       "       [False],\n",
       "       [ True],\n",
       "       [ True],\n",
       "       [ True],\n",
       "       [ True],\n",
       "       [ True],\n",
       "       [ True],\n",
       "       [False],\n",
       "       [False],\n",
       "       [ True],\n",
       "       [False],\n",
       "       [False],\n",
       "       [False],\n",
       "       [False],\n",
       "       [False],\n",
       "       [False],\n",
       "       [ True],\n",
       "       [False],\n",
       "       [ True],\n",
       "       [False],\n",
       "       [ True],\n",
       "       [False],\n",
       "       [ True],\n",
       "       [ True],\n",
       "       [False],\n",
       "       [ True],\n",
       "       [False],\n",
       "       [False],\n",
       "       [ True],\n",
       "       [ True],\n",
       "       [False],\n",
       "       [False],\n",
       "       [ True],\n",
       "       [False],\n",
       "       [False],\n",
       "       [ True],\n",
       "       [ True],\n",
       "       [ True],\n",
       "       [False],\n",
       "       [ True],\n",
       "       [ True],\n",
       "       [ True],\n",
       "       [False],\n",
       "       [ True],\n",
       "       [False],\n",
       "       [False],\n",
       "       [False],\n",
       "       [ True],\n",
       "       [False],\n",
       "       [False],\n",
       "       [False],\n",
       "       [False],\n",
       "       [False],\n",
       "       [ True],\n",
       "       [ True],\n",
       "       [ True],\n",
       "       [False],\n",
       "       [ True],\n",
       "       [False],\n",
       "       [ True],\n",
       "       [False],\n",
       "       [ True],\n",
       "       [ True],\n",
       "       [False],\n",
       "       [False],\n",
       "       [False],\n",
       "       [False],\n",
       "       [False],\n",
       "       [False],\n",
       "       [False],\n",
       "       [False],\n",
       "       [ True],\n",
       "       [ True],\n",
       "       [False],\n",
       "       [False],\n",
       "       [False],\n",
       "       [ True],\n",
       "       [ True],\n",
       "       [False],\n",
       "       [ True],\n",
       "       [ True],\n",
       "       [False],\n",
       "       [False],\n",
       "       [ True],\n",
       "       [ True],\n",
       "       [ True],\n",
       "       [False],\n",
       "       [False],\n",
       "       [False],\n",
       "       [False],\n",
       "       [False],\n",
       "       [ True],\n",
       "       [False],\n",
       "       [ True],\n",
       "       [ True],\n",
       "       [ True],\n",
       "       [ True],\n",
       "       [False],\n",
       "       [False],\n",
       "       [ True],\n",
       "       [False],\n",
       "       [False],\n",
       "       [False],\n",
       "       [False],\n",
       "       [False],\n",
       "       [False],\n",
       "       [False],\n",
       "       [ True],\n",
       "       [False],\n",
       "       [ True],\n",
       "       [False],\n",
       "       [False],\n",
       "       [ True],\n",
       "       [ True],\n",
       "       [ True],\n",
       "       [ True],\n",
       "       [ True],\n",
       "       [False],\n",
       "       [ True],\n",
       "       [False],\n",
       "       [ True],\n",
       "       [False],\n",
       "       [ True],\n",
       "       [False],\n",
       "       [False],\n",
       "       [False],\n",
       "       [ True],\n",
       "       [False],\n",
       "       [ True],\n",
       "       [False],\n",
       "       [ True],\n",
       "       [False],\n",
       "       [ True],\n",
       "       [ True],\n",
       "       [ True],\n",
       "       [False],\n",
       "       [False],\n",
       "       [False],\n",
       "       [ True],\n",
       "       [False],\n",
       "       [ True],\n",
       "       [ True],\n",
       "       [ True],\n",
       "       [False],\n",
       "       [ True],\n",
       "       [ True],\n",
       "       [ True],\n",
       "       [ True],\n",
       "       [ True],\n",
       "       [ True],\n",
       "       [False]])"
      ]
     },
     "execution_count": 20,
     "metadata": {},
     "output_type": "execute_result"
    }
   ],
   "source": [
    "y"
   ]
  },
  {
   "cell_type": "markdown",
   "metadata": {},
   "source": [
    "# Data preprocessing prepares raw data for further processing\n",
    "## Preprocessing include two ways \n",
    "### Fit\n",
    "### Imputer"
   ]
  },
  {
   "cell_type": "code",
   "execution_count": 21,
   "metadata": {},
   "outputs": [
    {
     "name": "stdout",
     "output_type": "stream",
     "text": [
      "     0    1    2      3      4    5    6      7    8    9    10   11   12\n",
      "0  63.0  1.0  1.0  145.0  233.0  1.0  2.0  150.0  0.0  2.3  3.0  0.0  6.0\n",
      "1  67.0  1.0  4.0  160.0  286.0  0.0  2.0  108.0  1.0  1.5  2.0  3.0  3.0\n",
      "2  67.0  1.0  4.0  120.0  229.0  0.0  2.0  129.0  1.0  2.6  2.0  2.0  7.0\n",
      "3  37.0  1.0  3.0  130.0  250.0  0.0  0.0  187.0  0.0  3.5  3.0  0.0  3.0\n",
      "4  41.0  0.0  2.0  130.0  204.0  0.0  2.0  172.0  0.0  1.4  1.0  0.0  3.0\n",
      "5  56.0  1.0  2.0  120.0  236.0  0.0  0.0  178.0  0.0  0.8  1.0  0.0  3.0\n",
      "6  62.0  0.0  4.0  140.0  268.0  0.0  2.0  160.0  0.0  3.6  3.0  2.0  3.0\n",
      "7  57.0  0.0  4.0  120.0  354.0  0.0  0.0  163.0  1.0  0.6  1.0  0.0  3.0\n",
      "8  63.0  1.0  4.0  130.0  254.0  0.0  2.0  147.0  0.0  1.4  2.0  1.0  7.0\n",
      "9  53.0  1.0  4.0  140.0  203.0  1.0  2.0  155.0  1.0  3.1  3.0  0.0  7.0\n"
     ]
    }
   ],
   "source": [
    "#==================================preprocessing=====>fit=====================>Imputer==============================\n",
    "#Taking care of nans and replace mean value\n",
    "from sklearn.impute import SimpleImputer  #======= we are using imputers to build to missing values ======\n",
    "imputer = SimpleImputer(missing_values=np.nan,fill_value=None, strategy='mean') #======  using mean value in missing value ===\n",
    "imputer = imputer.fit(X)      #======================== fit at the missing place====================\n",
    "X= imputer.transform(X)       #======= transforming to the proper stage=================\n",
    "X =pd.DataFrame(X)\n",
    "print(X.head(10))"
   ]
  },
  {
   "cell_type": "code",
   "execution_count": 22,
   "metadata": {},
   "outputs": [
    {
     "name": "stdout",
     "output_type": "stream",
     "text": [
      "[[ 0.94872647  0.68620244 -2.25177456 ...  2.27457861 -0.71991779\n",
      "   0.65178536]\n",
      " [ 1.39200191  0.68620244  0.87798549 ...  0.64911323  2.49941126\n",
      "  -0.90048628]\n",
      " [ 1.39200191  0.68620244  0.87798549 ...  0.64911323  1.42630158\n",
      "   1.16920923]\n",
      " ...\n",
      " [ 0.28381332  0.68620244  0.87798549 ...  0.64911323  0.35319189\n",
      "   1.16920923]\n",
      " [ 0.28381332 -1.4572959  -1.20852121 ...  0.64911323  0.35319189\n",
      "  -0.90048628]\n",
      " [-1.82174501  0.68620244 -0.16526786 ... -0.97635214 -1.06742858\n",
      "  -0.90048628]]\n"
     ]
    }
   ],
   "source": [
    "#======Feature Scaling====StandardScaler\n",
    "from sklearn.preprocessing import StandardScaler #======= using scaling we normalize in standard way=============\n",
    "sc= StandardScaler()\n",
    "X = sc.fit_transform(X)\n",
    "print(X)"
   ]
  },
  {
   "cell_type": "markdown",
   "metadata": {},
   "source": [
    "## Comparing num with age trestbps sex"
   ]
  },
  {
   "cell_type": "code",
   "execution_count": 23,
   "metadata": {},
   "outputs": [
    {
     "data": {
      "text/plain": [
       "age  trestbps  sex\n",
       "29   130       1      1\n",
       "34   118       0      1\n",
       "               1      1\n",
       "35   120       1      1\n",
       "     122       1      1\n",
       "     126       1      1\n",
       "     138       0      1\n",
       "37   120       0      1\n",
       "     130       1      1\n",
       "38   120       1      1\n",
       "     138       1      1\n",
       "39   94        0      1\n",
       "     118       1      1\n",
       "     138       0      1\n",
       "     140       1      1\n",
       "40   110       1      1\n",
       "     140       1      1\n",
       "     152       1      1\n",
       "41   105       0      1\n",
       "     110       1      2\n",
       "     112       0      1\n",
       "               1      1\n",
       "     120       1      1\n",
       "     126       0      1\n",
       "     130       0      1\n",
       "               1      1\n",
       "     135       1      1\n",
       "42   102       0      1\n",
       "     120       0      1\n",
       "               1      2\n",
       "                     ..\n",
       "66   120       1      1\n",
       "     146       0      1\n",
       "     150       0      1\n",
       "     160       1      2\n",
       "     178       0      1\n",
       "67   100       1      1\n",
       "     106       0      1\n",
       "     115       0      1\n",
       "     120       1      2\n",
       "     125       1      1\n",
       "     152       0      1\n",
       "               1      1\n",
       "     160       1      1\n",
       "68   118       1      1\n",
       "     120       0      1\n",
       "     144       1      1\n",
       "     180       1      1\n",
       "69   140       0      1\n",
       "               1      1\n",
       "     160       1      1\n",
       "70   130       1      1\n",
       "     145       1      1\n",
       "     156       1      1\n",
       "     160       1      1\n",
       "71   110       0      1\n",
       "     112       0      1\n",
       "     160       0      1\n",
       "74   120       0      1\n",
       "76   140       0      1\n",
       "77   125       1      1\n",
       "Name: num, Length: 266, dtype: int64"
      ]
     },
     "execution_count": 23,
     "metadata": {},
     "output_type": "execute_result"
    }
   ],
   "source": [
    "data.groupby(['age','trestbps','sex'])['num'].count()"
   ]
  },
  {
   "cell_type": "code",
   "execution_count": 24,
   "metadata": {},
   "outputs": [
    {
     "data": {
      "text/plain": [
       "cp  chol  thalach  ca \n",
       "1   182   174      0.0    1\n",
       "    186   190      0.0    1\n",
       "    193   162      0.0    1\n",
       "    199   178      0.0    1\n",
       "    204   162      2.0    1\n",
       "    211   144      0.0    1\n",
       "    213   125      1.0    1\n",
       "    226   114      0.0    1\n",
       "    227   155      0.0    1\n",
       "    231   182      0.0    1\n",
       "    233   150      0.0    1\n",
       "    234   131      1.0    1\n",
       "          145      2.0    1\n",
       "    239   151      2.0    1\n",
       "    240   171      0.0    1\n",
       "    244   178      2.0    1\n",
       "    264   132      0.0    1\n",
       "    270   145      0.0    1\n",
       "    273   125      0.0    1\n",
       "    282   174      1.0    1\n",
       "    283   162      0.0    1\n",
       "    288   159      0.0    1\n",
       "    298   178      0.0    1\n",
       "2   157   182      0.0    1\n",
       "    160   138      0.0    1\n",
       "    192   174      0.0    1\n",
       "    195   179      2.0    1\n",
       "    197   156      0.0    1\n",
       "    198   168      1.0    1\n",
       "    201   158      1.0    1\n",
       "                         ..\n",
       "4   294   106      3.0    1\n",
       "    298   122      3.0    1\n",
       "    299   125      2.0    1\n",
       "          173      0.0    1\n",
       "    300   171      2.0    1\n",
       "    302   151      0.0    1\n",
       "    303   122      2.0    1\n",
       "          159      1.0    1\n",
       "          181      0.0    1\n",
       "    304   162      3.0    1\n",
       "    305   142      0.0    1\n",
       "          161      0.0    1\n",
       "    307   146      0.0    1\n",
       "    309   147      3.0    1\n",
       "    311   120      2.0    1\n",
       "    315   125      0.0    1\n",
       "    318   140      3.0    1\n",
       "    322   109      3.0    1\n",
       "    325   154      0.0    1\n",
       "    326   140      0.0    1\n",
       "    327   117      0.0    1\n",
       "    330   132      3.0    1\n",
       "          169      0.0    1\n",
       "    335   143      1.0    1\n",
       "    341   136      0.0    1\n",
       "    353   132      1.0    1\n",
       "    354   163      0.0    1\n",
       "    394   157      0.0    1\n",
       "    407   154      3.0    1\n",
       "    409   150      2.0    1\n",
       "Name: num, Length: 302, dtype: int64"
      ]
     },
     "execution_count": 24,
     "metadata": {},
     "output_type": "execute_result"
    }
   ],
   "source": [
    "data.groupby(['cp','chol','thalach','ca'])['num'].count()"
   ]
  },
  {
   "cell_type": "code",
   "execution_count": 25,
   "metadata": {},
   "outputs": [],
   "source": [
    "# =====splitting the data into test and train having a test size of 30% and 70% train size , thus the test size shows in 0.3===\n",
    "from sklearn.model_selection import train_test_split\n",
    "X_train, X_test, y_train, y_test = train_test_split(X, y, test_size = 0.3, random_state = 0)"
   ]
  },
  {
   "cell_type": "code",
   "execution_count": 26,
   "metadata": {},
   "outputs": [
    {
     "name": "stdout",
     "output_type": "stream",
     "text": [
      "69.97% is train data\n",
      "30.03% is test data\n"
     ]
    }
   ],
   "source": [
    "value_train = (1.0* len(X_train))/(1.0*len(data.index))\n",
    "value_test = (1.0* len(X_test))/(1.0*len(data.index))\n",
    "print(\"{0:0.4}% is train data\".format(value_train*100))\n",
    "print(\"{0:0.4}% is test data\".format(value_test*100))"
   ]
  },
  {
   "cell_type": "code",
   "execution_count": 27,
   "metadata": {},
   "outputs": [
    {
     "data": {
      "text/plain": [
       "((212, 13), (212, 1))"
      ]
     },
     "execution_count": 27,
     "metadata": {},
     "output_type": "execute_result"
    }
   ],
   "source": [
    " X_train.shape, y_train.shape#======= output of train data in x and y===================="
   ]
  },
  {
   "cell_type": "code",
   "execution_count": 28,
   "metadata": {},
   "outputs": [
    {
     "data": {
      "text/plain": [
       "((91, 13), (91, 1))"
      ]
     },
     "execution_count": 28,
     "metadata": {},
     "output_type": "execute_result"
    }
   ],
   "source": [
    "X_test.shape, y_test.shape  #======= we are using imputers to build======"
   ]
  },
  {
   "cell_type": "markdown",
   "metadata": {},
   "source": [
    "\n",
    "## Logistic Regression from library"
   ]
  },
  {
   "cell_type": "code",
   "execution_count": 29,
   "metadata": {},
   "outputs": [],
   "source": [
    "#================================================Classification Starts========================================================\n",
    "#============Logistic Regression=====\n",
    "from sklearn.linear_model import LogisticRegression\n",
    "\n",
    "class_lr = LogisticRegression(random_state=0, solver='lbfgs',multi_class='multinomial')\n",
    "class_lr.fit(X_train, y_train.ravel())          \n",
    "class_lr_train= class_lr.predict(X_train)"
   ]
  },
  {
   "cell_type": "markdown",
   "metadata": {},
   "source": [
    "## Training LG"
   ]
  },
  {
   "cell_type": "code",
   "execution_count": 30,
   "metadata": {},
   "outputs": [
    {
     "name": "stdout",
     "output_type": "stream",
     "text": [
      "accuracy: 0.8679%\n"
     ]
    }
   ],
   "source": [
    "from sklearn import metrics\n",
    "accuracyof_LG = metrics.accuracy_score(y_train, class_lr_train)\n",
    "print(\"accuracy: {0:.4}%\".format(accuracyof_LG))"
   ]
  },
  {
   "cell_type": "markdown",
   "metadata": {},
   "source": [
    "## Testing LG"
   ]
  },
  {
   "cell_type": "code",
   "execution_count": 31,
   "metadata": {},
   "outputs": [
    {
     "name": "stdout",
     "output_type": "stream",
     "text": [
      "accuracy:0.8132%\n"
     ]
    }
   ],
   "source": [
    "class_lr_test=class_lr.predict(X_test)\n",
    "accuracyofLG_test = metrics.accuracy_score(y_test, class_lr_test)\n",
    "print(\"accuracy:{0:.4}%\".format(accuracyofLG_test))"
   ]
  },
  {
   "cell_type": "markdown",
   "metadata": {},
   "source": [
    "## Confusion Matrix for Logistic Regression"
   ]
  },
  {
   "cell_type": "code",
   "execution_count": 32,
   "metadata": {},
   "outputs": [
    {
     "name": "stdout",
     "output_type": "stream",
     "text": [
      "Confusion Matrix for Logistic Regression\n",
      "[[32 12]\n",
      " [ 5 42]]\n"
     ]
    }
   ],
   "source": [
    "print (\"Confusion Matrix for Logistic Regression\")\n",
    "print (\"{0}\".format(metrics.confusion_matrix(y_test, class_lr_test, labels=[1, 0])))\n"
   ]
  },
  {
   "cell_type": "markdown",
   "metadata": {},
   "source": [
    "## Classification for Logistic Regression"
   ]
  },
  {
   "cell_type": "code",
   "execution_count": 33,
   "metadata": {},
   "outputs": [
    {
     "name": "stdout",
     "output_type": "stream",
     "text": [
      "classification report Logistic Regression\n",
      "              precision    recall  f1-score   support\n",
      "\n",
      "           1       0.86      0.73      0.79        44\n",
      "           0       0.78      0.89      0.83        47\n",
      "\n",
      "   micro avg       0.81      0.81      0.81        91\n",
      "   macro avg       0.82      0.81      0.81        91\n",
      "weighted avg       0.82      0.81      0.81        91\n",
      "\n"
     ]
    }
   ],
   "source": [
    "print(\"classification report Logistic Regression\")\n",
    "print (metrics.classification_report(y_test, class_lr_test, labels=[1, 0]))"
   ]
  },
  {
   "cell_type": "code",
   "execution_count": 34,
   "metadata": {},
   "outputs": [
    {
     "name": "stdout",
     "output_type": "stream",
     "text": [
      "[0.87096774 0.80645161 0.80645161 0.96774194 0.8        0.7\n",
      " 0.83333333 0.86666667 0.73333333 0.86206897]\n"
     ]
    }
   ],
   "source": [
    "## 10 fold cross validation\n",
    "lrgcross= LogisticRegression()\n",
    "print(cross_val_score(lrgcross, X, y, cv=10, scoring= 'accuracy'))"
   ]
  },
  {
   "cell_type": "markdown",
   "metadata": {},
   "source": [
    "## Decision Tree import from library"
   ]
  },
  {
   "cell_type": "code",
   "execution_count": 35,
   "metadata": {},
   "outputs": [
    {
     "data": {
      "text/plain": [
       "DecisionTreeClassifier(class_weight=None, criterion='gini', max_depth=None,\n",
       "            max_features=None, max_leaf_nodes=None,\n",
       "            min_impurity_decrease=0.0, min_impurity_split=None,\n",
       "            min_samples_leaf=1, min_samples_split=2,\n",
       "            min_weight_fraction_leaf=0.0, presort=False, random_state=0,\n",
       "            splitter='best')"
      ]
     },
     "execution_count": 35,
     "metadata": {},
     "output_type": "execute_result"
    }
   ],
   "source": [
    "#=================Decision Tree========\n",
    "from sklearn.tree import DecisionTreeClassifier\n",
    "class_dt = DecisionTreeClassifier(random_state=0)\n",
    "class_dt.fit(X_train, y_train)"
   ]
  },
  {
   "cell_type": "markdown",
   "metadata": {},
   "source": [
    "# Training Decision tree"
   ]
  },
  {
   "cell_type": "code",
   "execution_count": 36,
   "metadata": {},
   "outputs": [
    {
     "name": "stdout",
     "output_type": "stream",
     "text": [
      "accuracy: 1.0%\n"
     ]
    }
   ],
   "source": [
    "class_DT_train= class_dt.predict(X_train)\n",
    "accuracyof_DT = metrics.accuracy_score(y_train, class_DT_train)\n",
    "print(\"accuracy: {0:.4}%\".format(accuracyof_DT))"
   ]
  },
  {
   "cell_type": "markdown",
   "metadata": {},
   "source": [
    "## Testing Decision Tree"
   ]
  },
  {
   "cell_type": "code",
   "execution_count": 37,
   "metadata": {},
   "outputs": [
    {
     "name": "stdout",
     "output_type": "stream",
     "text": [
      "accuracy:0.7912%\n"
     ]
    }
   ],
   "source": [
    "class_DT_test=class_dt.predict(X_test)\n",
    "accuracyofDT_test = metrics.accuracy_score(y_test, class_DT_test)\n",
    "print(\"accuracy:{0:.4}%\".format(accuracyofDT_test))"
   ]
  },
  {
   "cell_type": "markdown",
   "metadata": {},
   "source": [
    "## Confusion Matrix"
   ]
  },
  {
   "cell_type": "code",
   "execution_count": 38,
   "metadata": {},
   "outputs": [
    {
     "name": "stdout",
     "output_type": "stream",
     "text": [
      "Confusion Matrix\n",
      "[[33 11]\n",
      " [ 8 39]]\n"
     ]
    }
   ],
   "source": [
    "print (\"Confusion Matrix\")\n",
    "print (\"{0}\".format(metrics.confusion_matrix(y_test, class_DT_test, labels=[1, 0])))\n"
   ]
  },
  {
   "cell_type": "markdown",
   "metadata": {},
   "source": [
    "## Classification"
   ]
  },
  {
   "cell_type": "code",
   "execution_count": 39,
   "metadata": {},
   "outputs": [
    {
     "name": "stdout",
     "output_type": "stream",
     "text": [
      "classification report DT\n",
      "              precision    recall  f1-score   support\n",
      "\n",
      "           1       0.80      0.75      0.78        44\n",
      "           0       0.78      0.83      0.80        47\n",
      "\n",
      "   micro avg       0.79      0.79      0.79        91\n",
      "   macro avg       0.79      0.79      0.79        91\n",
      "weighted avg       0.79      0.79      0.79        91\n",
      "\n"
     ]
    }
   ],
   "source": [
    "print(\"classification report DT\")\n",
    "print (metrics.classification_report(y_test, class_DT_test, labels=[1, 0]))"
   ]
  },
  {
   "cell_type": "code",
   "execution_count": 40,
   "metadata": {},
   "outputs": [
    {
     "name": "stdout",
     "output_type": "stream",
     "text": [
      "[0.83870968 0.74193548 0.87096774 0.77419355 0.73333333 0.73333333\n",
      " 0.56666667 0.76666667 0.73333333 0.68965517]\n"
     ]
    }
   ],
   "source": [
    "## 10 fold cross validation\n",
    "dtcross= DecisionTreeClassifier()\n",
    "print(cross_val_score(dtcross, X, y, cv=10, scoring= 'accuracy'))"
   ]
  },
  {
   "cell_type": "markdown",
   "metadata": {},
   "source": [
    "## GaussianNB from library"
   ]
  },
  {
   "cell_type": "code",
   "execution_count": 41,
   "metadata": {},
   "outputs": [
    {
     "data": {
      "text/plain": [
       "GaussianNB(priors=None, var_smoothing=1e-09)"
      ]
     },
     "execution_count": 41,
     "metadata": {},
     "output_type": "execute_result"
    }
   ],
   "source": [
    "#============GaussianNB=====\n",
    "from sklearn.naive_bayes import GaussianNB\n",
    "class_gnb = GaussianNB()\n",
    "class_gnb.fit(X_train, y_train)"
   ]
  },
  {
   "cell_type": "markdown",
   "metadata": {},
   "source": [
    "## Train GNB"
   ]
  },
  {
   "cell_type": "code",
   "execution_count": 42,
   "metadata": {},
   "outputs": [],
   "source": [
    "class_GNB_train=class_gnb.predict(X_train)"
   ]
  },
  {
   "cell_type": "code",
   "execution_count": 43,
   "metadata": {},
   "outputs": [
    {
     "name": "stdout",
     "output_type": "stream",
     "text": [
      "Accuracy of naive bayes  model is : 0.8679\n"
     ]
    }
   ],
   "source": [
    "from sklearn import metrics\n",
    "Accuracyofnaive_bayes_train = metrics.accuracy_score(y_train, class_GNB_train)\n",
    "\n",
    "print (\"Accuracy of naive bayes  model is : {0:.4}\".format(Accuracyofnaive_bayes_train))"
   ]
  },
  {
   "cell_type": "markdown",
   "metadata": {},
   "source": [
    "## Test GNB"
   ]
  },
  {
   "cell_type": "code",
   "execution_count": 44,
   "metadata": {},
   "outputs": [],
   "source": [
    "class_GNBtest =class_gnb.predict(X_test)"
   ]
  },
  {
   "cell_type": "code",
   "execution_count": 45,
   "metadata": {},
   "outputs": [
    {
     "name": "stdout",
     "output_type": "stream",
     "text": [
      "accuracy of naive bayes model is : 0.8242\n"
     ]
    }
   ],
   "source": [
    "accuracyofnaive_bayes_test = metrics.accuracy_score(y_test, class_GNBtest)\n",
    "\n",
    "print (\"accuracy of naive bayes model is : {0:.4}\".format(accuracyofnaive_bayes_test))"
   ]
  },
  {
   "cell_type": "markdown",
   "metadata": {},
   "source": [
    "## Confusion matrix for GNB"
   ]
  },
  {
   "cell_type": "code",
   "execution_count": 46,
   "metadata": {},
   "outputs": [
    {
     "name": "stdout",
     "output_type": "stream",
     "text": [
      "Confusion Matrix\n",
      "[[33 11]\n",
      " [ 5 42]]\n"
     ]
    }
   ],
   "source": [
    "print (\"Confusion Matrix\")\n",
    "print (\"{0}\".format(metrics.confusion_matrix(y_test, class_GNBtest, labels=[1, 0])))\n"
   ]
  },
  {
   "cell_type": "markdown",
   "metadata": {},
   "source": [
    "## classification for GNB"
   ]
  },
  {
   "cell_type": "code",
   "execution_count": 47,
   "metadata": {},
   "outputs": [
    {
     "name": "stdout",
     "output_type": "stream",
     "text": [
      "Classification Report\n",
      "              precision    recall  f1-score   support\n",
      "\n",
      "           1       0.87      0.75      0.80        44\n",
      "           0       0.79      0.89      0.84        47\n",
      "\n",
      "   micro avg       0.82      0.82      0.82        91\n",
      "   macro avg       0.83      0.82      0.82        91\n",
      "weighted avg       0.83      0.82      0.82        91\n",
      "\n"
     ]
    }
   ],
   "source": [
    "print (\"Classification Report\")\n",
    "\n",
    "print (\"{0}\".format(metrics.classification_report(y_test,class_GNBtest, labels=[1, 0])))"
   ]
  },
  {
   "cell_type": "code",
   "execution_count": 48,
   "metadata": {},
   "outputs": [
    {
     "name": "stdout",
     "output_type": "stream",
     "text": [
      "[0.83870968 0.83870968 0.93548387 0.90322581 0.8        0.7\n",
      " 0.86666667 0.9        0.76666667 0.86206897]\n"
     ]
    }
   ],
   "source": [
    "## 10 fold cross validation\n",
    "gbncross= GaussianNB()\n",
    "print(cross_val_score(gbncross, X, y, cv=10, scoring= 'accuracy'))"
   ]
  },
  {
   "cell_type": "markdown",
   "metadata": {},
   "source": [
    "\n",
    "## import KNN from library"
   ]
  },
  {
   "cell_type": "code",
   "execution_count": 49,
   "metadata": {},
   "outputs": [
    {
     "data": {
      "text/plain": [
       "KNeighborsClassifier(algorithm='auto', leaf_size=30, metric='minkowski',\n",
       "           metric_params=None, n_jobs=None, n_neighbors=3, p=2,\n",
       "           weights='uniform')"
      ]
     },
     "execution_count": 49,
     "metadata": {},
     "output_type": "execute_result"
    }
   ],
   "source": [
    "#========KNN=================\n",
    "from sklearn.neighbors import KNeighborsClassifier\n",
    "class_neigh = KNeighborsClassifier(n_neighbors=3)\n",
    "class_neigh.fit(X_train, y_train)\n"
   ]
  },
  {
   "cell_type": "markdown",
   "metadata": {},
   "source": [
    "## PREDICT TRain KNN"
   ]
  },
  {
   "cell_type": "code",
   "execution_count": 50,
   "metadata": {},
   "outputs": [],
   "source": [
    "class_KNN_train=class_neigh.predict(X_train)"
   ]
  },
  {
   "cell_type": "code",
   "execution_count": 51,
   "metadata": {},
   "outputs": [
    {
     "name": "stdout",
     "output_type": "stream",
     "text": [
      "accuracy: 0.9009%\n"
     ]
    }
   ],
   "source": [
    "accuracyof_KNN = metrics.accuracy_score(y_train, class_KNN_train)\n",
    "print(\"accuracy: {0:.4}%\".format(accuracyof_KNN))"
   ]
  },
  {
   "cell_type": "markdown",
   "metadata": {},
   "source": [
    "## PREDICT KNN Test"
   ]
  },
  {
   "cell_type": "code",
   "execution_count": 52,
   "metadata": {},
   "outputs": [
    {
     "name": "stdout",
     "output_type": "stream",
     "text": [
      "accuracy:0.8242%\n"
     ]
    }
   ],
   "source": [
    "class_KNN_test=class_neigh.predict(X_test)\n",
    "accuracyofKNN_test = metrics.accuracy_score(y_test, class_KNN_test)\n",
    "print(\"accuracy:{0:.4}%\".format(accuracyofKNN_test))"
   ]
  },
  {
   "cell_type": "code",
   "execution_count": 53,
   "metadata": {},
   "outputs": [
    {
     "name": "stdout",
     "output_type": "stream",
     "text": [
      "Confusion Matrix\n",
      "[[33 11]\n",
      " [ 5 42]]\n"
     ]
    }
   ],
   "source": [
    "print (\"Confusion Matrix\")\n",
    "print (\"{0}\".format(metrics.confusion_matrix(y_test, class_KNN_test, labels=[1, 0])))\n"
   ]
  },
  {
   "cell_type": "code",
   "execution_count": 54,
   "metadata": {},
   "outputs": [
    {
     "name": "stdout",
     "output_type": "stream",
     "text": [
      "Classification Report\n",
      "\n",
      "              precision    recall  f1-score   support\n",
      "\n",
      "           1       0.87      0.75      0.80        44\n",
      "           0       0.79      0.89      0.84        47\n",
      "\n",
      "   micro avg       0.82      0.82      0.82        91\n",
      "   macro avg       0.83      0.82      0.82        91\n",
      "weighted avg       0.83      0.82      0.82        91\n",
      "\n"
     ]
    }
   ],
   "source": [
    "print (\"Classification Report\\n\")\n",
    "\n",
    "print (\"{0}\".format(metrics.classification_report(y_test, class_KNN_test, labels=[ 1,0])))"
   ]
  },
  {
   "cell_type": "code",
   "execution_count": 55,
   "metadata": {},
   "outputs": [
    {
     "name": "stdout",
     "output_type": "stream",
     "text": [
      "[0.87096774 0.80645161 0.90322581 0.93548387 0.83333333 0.83333333\n",
      " 0.8        0.83333333 0.76666667 0.75862069]\n"
     ]
    }
   ],
   "source": [
    "## 10 fold cross validation\n",
    "knncross= KNeighborsClassifier()\n",
    "print(cross_val_score(knncross, X, y, cv=10, scoring= 'accuracy'))"
   ]
  },
  {
   "cell_type": "markdown",
   "metadata": {},
   "source": [
    "## Import Multilayer preception from NN library"
   ]
  },
  {
   "cell_type": "code",
   "execution_count": 56,
   "metadata": {},
   "outputs": [
    {
     "data": {
      "text/plain": [
       "MLPClassifier(activation='relu', alpha=1e-05, batch_size='auto', beta_1=0.9,\n",
       "       beta_2=0.999, early_stopping=False, epsilon=1e-08,\n",
       "       hidden_layer_sizes=10, learning_rate='constant',\n",
       "       learning_rate_init=0.001, max_iter=200, momentum=0.9,\n",
       "       n_iter_no_change=10, nesterovs_momentum=True, power_t=0.5,\n",
       "       random_state=1, shuffle=True, solver='sgd', tol=0.0001,\n",
       "       validation_fraction=0.1, verbose=False, warm_start=False)"
      ]
     },
     "execution_count": 56,
     "metadata": {},
     "output_type": "execute_result"
    }
   ],
   "source": [
    "#==============Deep Learning Neural Network< multilayer perception====\n",
    "from sklearn.neural_network import MLPClassifier\n",
    "class_mlp = MLPClassifier(solver='sgd', alpha=1e-5,hidden_layer_sizes=10, random_state=1)\n",
    "class_mlp.fit(X_train, y_train)"
   ]
  },
  {
   "cell_type": "markdown",
   "metadata": {},
   "source": [
    "## Predict train MLP"
   ]
  },
  {
   "cell_type": "code",
   "execution_count": 59,
   "metadata": {},
   "outputs": [
    {
     "name": "stdout",
     "output_type": "stream",
     "text": [
      "Accuracy: 0.8585\n"
     ]
    }
   ],
   "source": [
    "class_mlp_train = class_mlp.predict(X_train)\n",
    "accuracyof_mlp = metrics.accuracy_score(y_train, class_mlp_train)\n",
    "\n",
    "print (\"Accuracy: {0:.4f}\".format(accuracyof_mlp))"
   ]
  },
  {
   "cell_type": "markdown",
   "metadata": {},
   "source": [
    "## Predict test MLP"
   ]
  },
  {
   "cell_type": "code",
   "execution_count": 57,
   "metadata": {},
   "outputs": [
    {
     "name": "stdout",
     "output_type": "stream",
     "text": [
      "Accuracy: 0.7253\n"
     ]
    }
   ],
   "source": [
    "class_mlp_test = class_mlp.predict(X_test)\n",
    "accuracyofmlp_test = metrics.accuracy_score(y_test, class_mlp_test)\n",
    "print (\"Accuracy: {0:.4f}\".format(accuracyofmlp_test))"
   ]
  },
  {
   "cell_type": "markdown",
   "metadata": {},
   "source": [
    "## Confusion matrix for MLP"
   ]
  },
  {
   "cell_type": "code",
   "execution_count": 58,
   "metadata": {},
   "outputs": [
    {
     "name": "stdout",
     "output_type": "stream",
     "text": [
      "Confusion Matrix\n",
      "[[24 20]\n",
      " [ 5 42]]\n"
     ]
    }
   ],
   "source": [
    "print (\"Confusion Matrix\")\n",
    "\n",
    "print (\"{0}\".format(metrics.confusion_matrix(y_test, class_mlp_test, labels=[1, 0])))"
   ]
  },
  {
   "cell_type": "markdown",
   "metadata": {},
   "source": [
    "## Classification FOr MLP"
   ]
  },
  {
   "cell_type": "code",
   "execution_count": 60,
   "metadata": {},
   "outputs": [
    {
     "name": "stdout",
     "output_type": "stream",
     "text": [
      "Classification Report\n",
      "\n",
      "              precision    recall  f1-score   support\n",
      "\n",
      "           1       0.83      0.55      0.66        44\n",
      "           0       0.68      0.89      0.77        47\n",
      "\n",
      "   micro avg       0.73      0.73      0.73        91\n",
      "   macro avg       0.75      0.72      0.71        91\n",
      "weighted avg       0.75      0.73      0.72        91\n",
      "\n"
     ]
    }
   ],
   "source": [
    "print (\"Classification Report\\n\")\n",
    "\n",
    "print (\"{0}\".format(metrics.classification_report(y_test, class_mlp_test, labels=[ 1,0])))"
   ]
  },
  {
   "cell_type": "code",
   "execution_count": 61,
   "metadata": {},
   "outputs": [
    {
     "name": "stdout",
     "output_type": "stream",
     "text": [
      "[0.87096774 0.80645161 0.77419355 0.90322581 0.83333333 0.8\n",
      " 0.76666667 0.83333333 0.7        0.75862069]\n"
     ]
    }
   ],
   "source": [
    "## 10 fold cross validation\n",
    "mlpcross= MLPClassifier()\n",
    "print(cross_val_score(mlpcross, X, y, cv=10, scoring= 'accuracy'))"
   ]
  },
  {
   "cell_type": "markdown",
   "metadata": {},
   "source": [
    "## Import SVM from library"
   ]
  },
  {
   "cell_type": "code",
   "execution_count": 62,
   "metadata": {},
   "outputs": [
    {
     "data": {
      "text/plain": [
       "LinearSVC(C=1.0, class_weight=None, dual=True, fit_intercept=True,\n",
       "     intercept_scaling=1, loss='squared_hinge', max_iter=1000,\n",
       "     multi_class='ovr', penalty='l2', random_state=0, tol=1e-05, verbose=0)"
      ]
     },
     "execution_count": 62,
     "metadata": {},
     "output_type": "execute_result"
    }
   ],
   "source": [
    "#===================SVM============\n",
    "from sklearn.svm import LinearSVC\n",
    "class_svm = LinearSVC(random_state=0, tol=1e-5)\n",
    "class_svm.fit(X_train, y_train)"
   ]
  },
  {
   "cell_type": "markdown",
   "metadata": {},
   "source": [
    "## Predict Train SVM "
   ]
  },
  {
   "cell_type": "code",
   "execution_count": 63,
   "metadata": {},
   "outputs": [
    {
     "name": "stdout",
     "output_type": "stream",
     "text": [
      "Accuracy: 0.8632\n"
     ]
    }
   ],
   "source": [
    "class_svm_train = class_svm.predict(X_train)\n",
    "accuracyof_svm = metrics.accuracy_score(y_train, class_svm_train)\n",
    "\n",
    "print (\"Accuracy: {0:.4f}\".format(accuracyof_svm))"
   ]
  },
  {
   "cell_type": "markdown",
   "metadata": {},
   "source": [
    "## Predict test SVM"
   ]
  },
  {
   "cell_type": "code",
   "execution_count": 64,
   "metadata": {},
   "outputs": [
    {
     "name": "stdout",
     "output_type": "stream",
     "text": [
      "Accuracy: 0.8132\n"
     ]
    }
   ],
   "source": [
    "class_svm_test = class_svm.predict(X_test)\n",
    "accuracyof_svmtest = metrics.accuracy_score(y_test, class_svm_test)\n",
    "\n",
    "print (\"Accuracy: {0:.4f}\".format(accuracyof_svmtest))"
   ]
  },
  {
   "cell_type": "markdown",
   "metadata": {},
   "source": [
    "## Confusion matrix for svm"
   ]
  },
  {
   "cell_type": "code",
   "execution_count": 65,
   "metadata": {},
   "outputs": [
    {
     "name": "stdout",
     "output_type": "stream",
     "text": [
      "Confusion Matrix\n",
      "[[32 12]\n",
      " [ 5 42]]\n"
     ]
    }
   ],
   "source": [
    "print (\"Confusion Matrix\")\n",
    "print (\"{0}\".format(metrics.confusion_matrix(y_test, class_svm_test, labels=[1, 0])))"
   ]
  },
  {
   "cell_type": "markdown",
   "metadata": {},
   "source": [
    "## Classification for svm"
   ]
  },
  {
   "cell_type": "code",
   "execution_count": 66,
   "metadata": {},
   "outputs": [
    {
     "name": "stdout",
     "output_type": "stream",
     "text": [
      "Classification Report\n",
      "\n",
      "              precision    recall  f1-score   support\n",
      "\n",
      "           1       0.86      0.73      0.79        44\n",
      "           0       0.78      0.89      0.83        47\n",
      "\n",
      "   micro avg       0.81      0.81      0.81        91\n",
      "   macro avg       0.82      0.81      0.81        91\n",
      "weighted avg       0.82      0.81      0.81        91\n",
      "\n"
     ]
    }
   ],
   "source": [
    "print (\"Classification Report\\n\")\n",
    "print (\"{0}\".format(metrics.classification_report(y_test, class_svm_test, labels=[ 1,0])))"
   ]
  },
  {
   "cell_type": "code",
   "execution_count": 67,
   "metadata": {},
   "outputs": [
    {
     "name": "stdout",
     "output_type": "stream",
     "text": [
      "[0.90322581 0.83870968 0.80645161 0.96774194 0.8        0.7\n",
      " 0.83333333 0.86666667 0.73333333 0.86206897]\n"
     ]
    }
   ],
   "source": [
    "## 10 fold cross validation\n",
    "svccross= LinearSVC()\n",
    "print(cross_val_score(svccross, X, y, cv=10, scoring= 'accuracy'))"
   ]
  },
  {
   "cell_type": "markdown",
   "metadata": {},
   "source": [
    "## Import XGBOOST fom library"
   ]
  },
  {
   "cell_type": "code",
   "execution_count": 68,
   "metadata": {},
   "outputs": [],
   "source": [
    "from xgboost import XGBClassifier\n",
    "class_XGB =XGBClassifier().fit(X_train, y_train)"
   ]
  },
  {
   "cell_type": "markdown",
   "metadata": {},
   "source": [
    "## XGBOSST Train"
   ]
  },
  {
   "cell_type": "code",
   "execution_count": 69,
   "metadata": {},
   "outputs": [
    {
     "data": {
      "text/plain": [
       "XGBClassifier(base_score=0.5, booster='gbtree', colsample_bylevel=1,\n",
       "       colsample_bytree=1, gamma=0, learning_rate=0.1, max_delta_step=0,\n",
       "       max_depth=3, min_child_weight=1, missing=None, n_estimators=100,\n",
       "       n_jobs=1, nthread=None, objective='binary:logistic', random_state=0,\n",
       "       reg_alpha=0, reg_lambda=1, scale_pos_weight=1, seed=None,\n",
       "       silent=True, subsample=1)"
      ]
     },
     "execution_count": 69,
     "metadata": {},
     "output_type": "execute_result"
    }
   ],
   "source": [
    "class_XGB.fit(X_train, y_train)"
   ]
  },
  {
   "cell_type": "code",
   "execution_count": 70,
   "metadata": {},
   "outputs": [
    {
     "name": "stdout",
     "output_type": "stream",
     "text": [
      "Accuracy: 0.9953\n"
     ]
    }
   ],
   "source": [
    "class_XGB_train = class_XGB.predict(X_train)\n",
    "accuracyof_XGB = metrics.accuracy_score(y_train, class_XGB_train)\n",
    "\n",
    "print (\"Accuracy: {0:.4f}\".format(accuracyof_XGB))"
   ]
  },
  {
   "cell_type": "markdown",
   "metadata": {},
   "source": [
    "## XGB Test"
   ]
  },
  {
   "cell_type": "code",
   "execution_count": 71,
   "metadata": {},
   "outputs": [
    {
     "name": "stdout",
     "output_type": "stream",
     "text": [
      "Accuracy: 0.7582\n"
     ]
    }
   ],
   "source": [
    "class_XGB_test = class_XGB.predict(X_test)\n",
    "accuracyof_XGBtest = metrics.accuracy_score(y_test, class_XGB_test)\n",
    "\n",
    "print (\"Accuracy: {0:.4f}\".format(accuracyof_XGBtest))"
   ]
  },
  {
   "cell_type": "markdown",
   "metadata": {},
   "source": [
    "## XGB CONFUSION Matrix"
   ]
  },
  {
   "cell_type": "code",
   "execution_count": 72,
   "metadata": {},
   "outputs": [
    {
     "name": "stdout",
     "output_type": "stream",
     "text": [
      "Confusion Matrix\n",
      "[[30 14]\n",
      " [ 8 39]]\n"
     ]
    }
   ],
   "source": [
    "print (\"Confusion Matrix\")\n",
    "print (\"{0}\".format(metrics.confusion_matrix(y_test, class_XGB_test, labels=[1, 0])))"
   ]
  },
  {
   "cell_type": "markdown",
   "metadata": {},
   "source": [
    "## XGBclassification"
   ]
  },
  {
   "cell_type": "code",
   "execution_count": 73,
   "metadata": {},
   "outputs": [
    {
     "name": "stdout",
     "output_type": "stream",
     "text": [
      "Classification Report of XGbooster\n",
      "\n",
      "              precision    recall  f1-score   support\n",
      "\n",
      "           1       0.79      0.68      0.73        44\n",
      "           0       0.74      0.83      0.78        47\n",
      "\n",
      "   micro avg       0.76      0.76      0.76        91\n",
      "   macro avg       0.76      0.76      0.76        91\n",
      "weighted avg       0.76      0.76      0.76        91\n",
      "\n"
     ]
    }
   ],
   "source": [
    "print (\"Classification Report of XGbooster\\n\")\n",
    "\n",
    "print (\"{0}\".format(metrics.classification_report(y_test, class_XGB_test, labels=[ 1,0])))"
   ]
  },
  {
   "cell_type": "code",
   "execution_count": 74,
   "metadata": {},
   "outputs": [
    {
     "name": "stdout",
     "output_type": "stream",
     "text": [
      "[0.90322581 0.77419355 0.90322581 0.87096774 0.9        0.63333333\n",
      " 0.76666667 0.83333333 0.73333333 0.75862069]\n"
     ]
    }
   ],
   "source": [
    "## 10 fold cross validation\n",
    "xgcross= XGBClassifier()\n",
    "print(cross_val_score(xgcross, X, y, cv=10, scoring= 'accuracy'))"
   ]
  },
  {
   "cell_type": "code",
   "execution_count": 75,
   "metadata": {},
   "outputs": [
    {
     "data": {
      "text/html": [
       "<div>\n",
       "<style scoped>\n",
       "    .dataframe tbody tr th:only-of-type {\n",
       "        vertical-align: middle;\n",
       "    }\n",
       "\n",
       "    .dataframe tbody tr th {\n",
       "        vertical-align: top;\n",
       "    }\n",
       "\n",
       "    .dataframe thead th {\n",
       "        text-align: right;\n",
       "    }\n",
       "</style>\n",
       "<table border=\"1\" class=\"dataframe\">\n",
       "  <thead>\n",
       "    <tr style=\"text-align: right;\">\n",
       "      <th></th>\n",
       "      <th>Unnamed: 0</th>\n",
       "      <th>age</th>\n",
       "      <th>sex</th>\n",
       "      <th>cp</th>\n",
       "      <th>trestbps</th>\n",
       "      <th>chol</th>\n",
       "      <th>fbs</th>\n",
       "      <th>restecg</th>\n",
       "      <th>thalach</th>\n",
       "      <th>exang</th>\n",
       "      <th>oldpeak</th>\n",
       "      <th>slope</th>\n",
       "      <th>ca</th>\n",
       "      <th>thal</th>\n",
       "      <th>num</th>\n",
       "    </tr>\n",
       "  </thead>\n",
       "  <tbody>\n",
       "    <tr>\n",
       "      <th>0</th>\n",
       "      <td>1</td>\n",
       "      <td>63</td>\n",
       "      <td>1</td>\n",
       "      <td>1</td>\n",
       "      <td>145</td>\n",
       "      <td>233</td>\n",
       "      <td>1</td>\n",
       "      <td>2</td>\n",
       "      <td>150</td>\n",
       "      <td>0</td>\n",
       "      <td>2.3</td>\n",
       "      <td>3</td>\n",
       "      <td>0.0</td>\n",
       "      <td>6.0</td>\n",
       "      <td>False</td>\n",
       "    </tr>\n",
       "    <tr>\n",
       "      <th>1</th>\n",
       "      <td>2</td>\n",
       "      <td>67</td>\n",
       "      <td>1</td>\n",
       "      <td>4</td>\n",
       "      <td>160</td>\n",
       "      <td>286</td>\n",
       "      <td>0</td>\n",
       "      <td>2</td>\n",
       "      <td>108</td>\n",
       "      <td>1</td>\n",
       "      <td>1.5</td>\n",
       "      <td>2</td>\n",
       "      <td>3.0</td>\n",
       "      <td>3.0</td>\n",
       "      <td>True</td>\n",
       "    </tr>\n",
       "    <tr>\n",
       "      <th>2</th>\n",
       "      <td>3</td>\n",
       "      <td>67</td>\n",
       "      <td>1</td>\n",
       "      <td>4</td>\n",
       "      <td>120</td>\n",
       "      <td>229</td>\n",
       "      <td>0</td>\n",
       "      <td>2</td>\n",
       "      <td>129</td>\n",
       "      <td>1</td>\n",
       "      <td>2.6</td>\n",
       "      <td>2</td>\n",
       "      <td>2.0</td>\n",
       "      <td>7.0</td>\n",
       "      <td>True</td>\n",
       "    </tr>\n",
       "    <tr>\n",
       "      <th>3</th>\n",
       "      <td>4</td>\n",
       "      <td>37</td>\n",
       "      <td>1</td>\n",
       "      <td>3</td>\n",
       "      <td>130</td>\n",
       "      <td>250</td>\n",
       "      <td>0</td>\n",
       "      <td>0</td>\n",
       "      <td>187</td>\n",
       "      <td>0</td>\n",
       "      <td>3.5</td>\n",
       "      <td>3</td>\n",
       "      <td>0.0</td>\n",
       "      <td>3.0</td>\n",
       "      <td>False</td>\n",
       "    </tr>\n",
       "    <tr>\n",
       "      <th>4</th>\n",
       "      <td>5</td>\n",
       "      <td>41</td>\n",
       "      <td>0</td>\n",
       "      <td>2</td>\n",
       "      <td>130</td>\n",
       "      <td>204</td>\n",
       "      <td>0</td>\n",
       "      <td>2</td>\n",
       "      <td>172</td>\n",
       "      <td>0</td>\n",
       "      <td>1.4</td>\n",
       "      <td>1</td>\n",
       "      <td>0.0</td>\n",
       "      <td>3.0</td>\n",
       "      <td>False</td>\n",
       "    </tr>\n",
       "  </tbody>\n",
       "</table>\n",
       "</div>"
      ],
      "text/plain": [
       "   Unnamed: 0  age  sex  cp  trestbps  chol  fbs  restecg  thalach  exang  \\\n",
       "0           1   63    1   1       145   233    1        2      150      0   \n",
       "1           2   67    1   4       160   286    0        2      108      1   \n",
       "2           3   67    1   4       120   229    0        2      129      1   \n",
       "3           4   37    1   3       130   250    0        0      187      0   \n",
       "4           5   41    0   2       130   204    0        2      172      0   \n",
       "\n",
       "   oldpeak  slope   ca  thal    num  \n",
       "0      2.3      3  0.0   6.0  False  \n",
       "1      1.5      2  3.0   3.0   True  \n",
       "2      2.6      2  2.0   7.0   True  \n",
       "3      3.5      3  0.0   3.0  False  \n",
       "4      1.4      1  0.0   3.0  False  "
      ]
     },
     "execution_count": 75,
     "metadata": {},
     "output_type": "execute_result"
    }
   ],
   "source": [
    "data.head()"
   ]
  },
  {
   "cell_type": "code",
   "execution_count": null,
   "metadata": {},
   "outputs": [],
   "source": []
  },
  {
   "cell_type": "code",
   "execution_count": null,
   "metadata": {},
   "outputs": [],
   "source": []
  },
  {
   "cell_type": "markdown",
   "metadata": {},
   "source": [
    "## Bar plot"
   ]
  },
  {
   "cell_type": "code",
   "execution_count": 81,
   "metadata": {},
   "outputs": [
    {
     "data": {
      "text/plain": [
       "<matplotlib.axes._subplots.AxesSubplot at 0x1d4e54566a0>"
      ]
     },
     "execution_count": 81,
     "metadata": {},
     "output_type": "execute_result"
    },
    {
     "data": {
      "image/png": "[encoded data removed]",
      "text/plain": [
       "<Figure size 432x288 with 1 Axes>"
      ]
     },
     "metadata": {},
     "output_type": "display_data"
    }
   ],
   "source": [
    "#=================================Plot only the values of num using plot bar==============================================\n",
    "data[\"num\"].value_counts().plot.bar()"
   ]
  },
  {
   "cell_type": "code",
   "execution_count": 82,
   "metadata": {},
   "outputs": [
    {
     "data": {
      "text/plain": [
       "<matplotlib.axes._subplots.AxesSubplot at 0x1d4e555c1d0>"
      ]
     },
     "execution_count": 82,
     "metadata": {},
     "output_type": "execute_result"
    },
    {
     "data": {
      "image/png": "[encoded data removed]",
      "text/plain": [
       "<Figure size 720x720 with 2 Axes>"
      ]
     },
     "metadata": {},
     "output_type": "display_data"
    }
   ],
   "source": [
    "#=====using Heat map to see the coreelation between variables=============================\n",
    "plt.subplots(figsize=(10,10))\n",
    "sns.heatmap(data.corr(),robust=True,annot=True)"
   ]
  },
  {
   "cell_type": "markdown",
   "metadata": {},
   "source": [
    "## Histogram"
   ]
  },
  {
   "cell_type": "code",
   "execution_count": 83,
   "metadata": {},
   "outputs": [
    {
     "data": {
      "image/png": "[encoded data removed]",
      "text/plain": [
       "<Figure size 720x432 with 1 Axes>"
      ]
     },
     "metadata": {},
     "output_type": "display_data"
    }
   ],
   "source": [
    "#====================================Histogram for all features of the dataset=======================================\n",
    "data.plot(kind= 'hist',figsize=(10,6), )\n",
    "\n",
    "plt.show()"
   ]
  },
  {
   "cell_type": "markdown",
   "metadata": {},
   "source": [
    "## Boxplot"
   ]
  },
  {
   "cell_type": "code",
   "execution_count": 84,
   "metadata": {},
   "outputs": [
    {
     "data": {
      "image/png": "[encoded data removed]",
      "text/plain": [
       "<Figure size 720x432 with 1 Axes>"
      ]
     },
     "metadata": {},
     "output_type": "display_data"
    }
   ],
   "source": [
    "#======================================== using boxplot we Detect outliers=============================================\n",
    "data.plot(kind= 'box',figsize=(10,6), )\n",
    "\n",
    "plt.show()\n"
   ]
  },
  {
   "cell_type": "code",
   "execution_count": null,
   "metadata": {},
   "outputs": [],
   "source": []
  },
  {
   "cell_type": "code",
   "execution_count": null,
   "metadata": {},
   "outputs": [],
   "source": []
  },
  {
   "cell_type": "code",
   "execution_count": null,
   "metadata": {},
   "outputs": [],
   "source": []
  },
  {
   "cell_type": "code",
   "execution_count": null,
   "metadata": {},
   "outputs": [],
   "source": []
  },
  {
   "cell_type": "code",
   "execution_count": null,
   "metadata": {},
   "outputs": [],
   "source": []
  },
  {
   "cell_type": "code",
   "execution_count": null,
   "metadata": {},
   "outputs": [],
   "source": []
  },
  {
   "cell_type": "code",
   "execution_count": null,
   "metadata": {},
   "outputs": [],
   "source": [
    "\n"
   ]
  },
  {
   "cell_type": "code",
   "execution_count": null,
   "metadata": {},
   "outputs": [],
   "source": []
  },
  {
   "cell_type": "code",
   "execution_count": null,
   "metadata": {},
   "outputs": [],
   "source": []
  },
  {
   "cell_type": "code",
   "execution_count": null,
   "metadata": {},
   "outputs": [],
   "source": []
  },
  {
   "cell_type": "code",
   "execution_count": null,
   "metadata": {},
   "outputs": [],
   "source": []
  },
  {
   "cell_type": "code",
   "execution_count": null,
   "metadata": {},
   "outputs": [],
   "source": []
  },
  {
   "cell_type": "code",
   "execution_count": null,
   "metadata": {},
   "outputs": [],
   "source": []
  },
  {
   "cell_type": "code",
   "execution_count": null,
   "metadata": {},
   "outputs": [],
   "source": []
  },
  {
   "cell_type": "code",
   "execution_count": null,
   "metadata": {},
   "outputs": [],
   "source": []
  },
  {
   "cell_type": "code",
   "execution_count": null,
   "metadata": {},
   "outputs": [],
   "source": []
  },
  {
   "cell_type": "code",
   "execution_count": null,
   "metadata": {},
   "outputs": [],
   "source": []
  },
  {
   "cell_type": "code",
   "execution_count": null,
   "metadata": {},
   "outputs": [],
   "source": []
  },
  {
   "cell_type": "code",
   "execution_count": null,
   "metadata": {},
   "outputs": [],
   "source": []
  },
  {
   "cell_type": "code",
   "execution_count": null,
   "metadata": {},
   "outputs": [],
   "source": []
  },
  {
   "cell_type": "code",
   "execution_count": null,
   "metadata": {},
   "outputs": [],
   "source": []
  }
 ],
 "metadata": {
  "kernelspec": {
   "display_name": "Python 3",
   "language": "python",
   "name": "python3"
  },
  "language_info": {
   "codemirror_mode": {
    "name": "ipython",
    "version": 3
   },
   "file_extension": ".py",
   "mimetype": "text/x-python",
   "name": "python",
   "nbconvert_exporter": "python",
   "pygments_lexer": "ipython3",
   "version": "3.7.3"
  }
 },
 "nbformat": 4,
 "nbformat_minor": 2
}
